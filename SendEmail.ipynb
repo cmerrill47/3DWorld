{
 "cells": [
  {
   "cell_type": "code",
   "execution_count": 1,
   "id": "b09f53bc",
   "metadata": {},
   "outputs": [
    {
     "name": "stdout",
     "output_type": "stream",
     "text": [
      "Collecting yagmail\n",
      "  Downloading yagmail-0.14.260-py2.py3-none-any.whl (16 kB)\n",
      "Collecting premailer\n",
      "  Downloading premailer-3.10.0-py2.py3-none-any.whl (19 kB)\n",
      "Collecting cachetools\n",
      "  Downloading cachetools-4.2.4-py3-none-any.whl (10 kB)\n",
      "Requirement already satisfied: requests in c:\\users\\merri\\anaconda3\\lib\\site-packages (from premailer->yagmail) (2.25.1)\n",
      "Collecting cssselect\n",
      "  Downloading cssselect-1.1.0-py2.py3-none-any.whl (16 kB)\n",
      "Requirement already satisfied: lxml in c:\\users\\merri\\anaconda3\\lib\\site-packages (from premailer->yagmail) (4.6.3)Note: you may need to restart the kernel to use updated packages.\n",
      "\n",
      "Collecting cssutils\n",
      "  Downloading cssutils-2.3.0-py3-none-any.whl (404 kB)\n",
      "Requirement already satisfied: urllib3<1.27,>=1.21.1 in c:\\users\\merri\\anaconda3\\lib\\site-packages (from requests->premailer->yagmail) (1.26.4)\n",
      "Requirement already satisfied: idna<3,>=2.5 in c:\\users\\merri\\anaconda3\\lib\\site-packages (from requests->premailer->yagmail) (2.10)\n",
      "Requirement already satisfied: certifi>=2017.4.17 in c:\\users\\merri\\anaconda3\\lib\\site-packages (from requests->premailer->yagmail) (2020.12.5)\n",
      "Requirement already satisfied: chardet<5,>=3.0.2 in c:\\users\\merri\\anaconda3\\lib\\site-packages (from requests->premailer->yagmail) (4.0.0)\n",
      "Installing collected packages: cssutils, cssselect, cachetools, premailer, yagmail\n",
      "Successfully installed cachetools-4.2.4 cssselect-1.1.0 cssutils-2.3.0 premailer-3.10.0 yagmail-0.14.260\n"
     ]
    }
   ],
   "source": [
    "pip install yagmail"
   ]
  },
  {
   "cell_type": "code",
   "execution_count": 2,
   "id": "abe6c964",
   "metadata": {},
   "outputs": [],
   "source": [
    "import yagmail"
   ]
  },
  {
   "cell_type": "code",
   "execution_count": 3,
   "id": "88681b37",
   "metadata": {},
   "outputs": [
    {
     "data": {
      "text/plain": [
       "{}"
      ]
     },
     "execution_count": 3,
     "metadata": {},
     "output_type": "execute_result"
    }
   ],
   "source": [
    "user = yagmail.SMTP(user='facemasksectest@gmail.com', \\\n",
    "                       password='Computervision123')\n",
    "user.send(to='facemasksectest@gmail.com', \\\n",
    "             subject='Face Mask Security Threat', \\\n",
    "             contents='An individual has been detected improperly wearing their facemask.')"
   ]
  },
  {
   "cell_type": "markdown",
   "id": "9931deac",
   "metadata": {},
   "source": [
    "email info: facemasksectest@gmail.com\n",
    "password: Computervision123"
   ]
  },
  {
   "cell_type": "code",
   "execution_count": null,
   "id": "b30e84fb",
   "metadata": {},
   "outputs": [],
   "source": []
  }
 ],
 "metadata": {
  "kernelspec": {
   "display_name": "Python 3",
   "language": "python",
   "name": "python3"
  },
  "language_info": {
   "codemirror_mode": {
    "name": "ipython",
    "version": 3
   },
   "file_extension": ".py",
   "mimetype": "text/x-python",
   "name": "python",
   "nbconvert_exporter": "python",
   "pygments_lexer": "ipython3",
   "version": "3.8.8"
  }
 },
 "nbformat": 4,
 "nbformat_minor": 5
}
